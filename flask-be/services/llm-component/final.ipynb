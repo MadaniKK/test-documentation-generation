{
 "cells": [
  {
   "cell_type": "code",
   "execution_count": 1,
   "metadata": {},
   "outputs": [],
   "source": [
    "%load_ext autoreload\n",
    "%autoreload 2\n",
    "\n",
    "from utils import load_config, set_environment_variables, num_tokens_from_messages, get_git_files, get_data_files\n",
    "import sys\n",
    "import os\n",
    "config       = load_config('config.yaml')\n",
    "set_environment_variables(config)\n",
    "ACCESS_TOKEN = os.environ['GIT_ACCESS_TOKEN']\n",
    "sys.path.append(\"/database\")"
   ]
  },
  {
   "cell_type": "code",
   "execution_count": 2,
   "metadata": {},
   "outputs": [],
   "source": [
    "from database import get_documentation_by_url, put_new_repository_documentation, get_file_documentation, delete_documentation_by_url, get_status, get_status_by_file\n",
    "from repo_processor import process_file, parallel_process_files, download_and_process_repo_url\n",
    "from concurrent.futures import ThreadPoolExecutor, as_completed\n",
    "from langchain.document_loaders import GithubFileLoader\n",
    "from langchain.callbacks import get_openai_callback\n",
    "from ConfluenceChain import ConfluenceChain, Parser\n",
    "from pymongo import MongoClient\n",
    "import matplotlib.pyplot as plt\n",
    "import networkx as nx\n",
    "from tqdm import tqdm\n",
    "import pandas as pd\n",
    "import nest_asyncio\n",
    "import shutil\n",
    "nest_asyncio.apply()\n"
   ]
  },
  {
   "cell_type": "code",
   "execution_count": 3,
   "metadata": {},
   "outputs": [],
   "source": [
    "repo_url              = \"https://github.com/Adarsh9616/Electricity_Billing_System/\"\n",
    "# repo_url              = \"https://github.com/thuml/Time-Series-Library/\"\n",
    "supported_languages   = ['python', 'java', 'javascript']\n",
    "\n",
    "# data_dict             = download_and_process_repo_url(repo_url, supported_languages)"
   ]
  },
  {
   "cell_type": "code",
   "execution_count": null,
   "metadata": {},
   "outputs": [],
   "source": []
  },
  {
   "cell_type": "code",
   "execution_count": 31,
   "metadata": {},
   "outputs": [],
   "source": [
    "# import boto3\n",
    "# sqs       = boto3.client('sqs', 'us-east-1')\n",
    "# queue_url = 'https://sqs.us-east-1.amazonaws.com/018192622412/doc-gen'\n",
    "# response  = sqs.send_message(\n",
    "#     QueueUrl=queue_url,\n",
    "#     MessageBody=str(\"https://github.com/Adarsh9616/Electricity_Billing_System/\")\n",
    "# )\n",
    "\n",
    "# \"\"\" or \"\"\"\n",
    "\n",
    "# https://bjxdbdicckttmzhrhnpl342k2q0pcthx.lambda-url.us-east-1.on.aws/?repo_url=https://github.com/Adarsh9616/Electricity_Billing_System/"
   ]
  },
  {
   "cell_type": "code",
   "execution_count": 30,
   "metadata": {},
   "outputs": [
    {
     "name": "stdout",
     "output_type": "stream",
     "text": [
      "[{'MessageId': '907db49d-4915-4b94-b643-bed34220873c', 'ReceiptHandle': 'AQEBPOEwO9zDxF4fb+4Av8xejsokvQWSp2x6ceBivpdwfZI9SReJic4X/GbJEpqBwYK+FmvRn1bYEEbCQwWdwnWjJrG3vxiQwyPNk0JqenT9mjMJm1YXqWQ+NeHvQ/GvK3O9PGpxisrC/TigpvIpntgImzFbA+u/R1puRfGf9kzgdLNalyJkOJanM8Dc46QfT37KB+Qch4J+BY97QklQmo//Xs9sWbfUivJxbarHCMi0isYsRa9L0Vjh2wTOYDIcBw1/tLDOySfWejeH7knNVUPdwsHMXpwtyK3mUm77jqJ2KBvqrfOHMJ73RKsjn0tn6mTc+LjFHPac4YKj2otWQmZDtTXER+PF+dKgey/RHojEKaKEnnm/LVkIn+PmstAbd2ER', 'MD5OfBody': '5e8c8de0e3a0c052ec15a8ed582f785c', 'Body': 'https://github.com/Adarsh9616/Electricity_Billing_System/'}]\n",
      "[]\n"
     ]
    }
   ],
   "source": [
    "# response = sqs.receive_message(\n",
    "#     QueueUrl=queue_url,\n",
    "#     MaxNumberOfMessages=1,\n",
    "#     WaitTimeSeconds=1 # Long polling\n",
    "# )\n",
    "\n",
    "# messages = response.get('Messages', [])\n",
    "# print(messages)\n",
    "# while len(messages) != 0:\n",
    "#     response = sqs.receive_message(\n",
    "#         QueueUrl=queue_url,\n",
    "#         MaxNumberOfMessages=1,\n",
    "#         WaitTimeSeconds=1 # Long polling\n",
    "#     )\n",
    "\n",
    "#     messages = response.get('Messages', [])\n",
    "#     print(messages)"
   ]
  },
  {
   "cell_type": "code",
   "execution_count": 39,
   "metadata": {},
   "outputs": [
    {
     "data": {
      "text/plain": [
       "{'repository_url': 'https://github.com/Adarsh9616/Electricity_Billing_System/',\n",
       " 'overall_status': 'In progress',\n",
       " 'file_level_status': {'src/splash.java': 'Completed',\n",
       "  'src/generate.bill.java': 'Completed',\n",
       "  'src/pay.bill.java': 'Completed',\n",
       "  'src/conn.java': 'Completed',\n",
       "  'src/customer.details.java': 'Completed',\n",
       "  'src/login.java': 'Completed',\n",
       "  'src/new.customer.java': 'Completed'}}"
      ]
     },
     "execution_count": 39,
     "metadata": {},
     "output_type": "execute_result"
    }
   ],
   "source": [
    "status_url = get_status(repo_url)\n",
    "# get_status_by_file(repo_url, file_name)\n",
    "status_url"
   ]
  },
  {
   "cell_type": "code",
   "execution_count": 37,
   "metadata": {},
   "outputs": [
    {
     "name": "stdout",
     "output_type": "stream",
     "text": [
      "Now the file path is src/splash.java\n",
      "Now the file path is src/generate.bill.java\n",
      "Now the file path is src/pay.bill.java\n",
      "Now the file path is src/conn.java\n",
      "Now the file path is src/customer.details.java\n"
     ]
    },
    {
     "data": {
      "text/plain": [
       "{'src/splash.java': FileConfluenceOutput(file_path='src/splash.java', overall_summary='The file defines a Java application that creates a splash screen for an Electricity Billing System. It uses a JFrame to display an animated splash screen before transitioning to a login screen.', packages={'java.awt': PackageDetail(usage='Used for creating and managing GUI components, such as layouts and images.', description='Provides classes for creating user interfaces and for painting graphics and images.'), 'javax.swing': PackageDetail(usage='Used for creating the GUI components, such as JFrame and JLabel, and managing threading with Swing.', description=\"Provides a set of 'lightweight' (all-Java language) components that, to the maximum degree possible, work the same on all platforms.\")}, functions={'main': FunctionDetail(name='main', description='The entry point of the application. It creates and displays the splash screen with an animation effect.', class_declaration='public static void main(String args[])', additional_details=\"The function creates an instance of 'fframe', makes it visible, and then animates its size and position.\"), 'fframe': FunctionDetail(name='fframe', description=\"A constructor for the 'fframe' class which initializes the splash screen with an image and starts a thread for the splash screen duration.\", class_declaration='public static class fframe extends JFrame implements Runnable', additional_details=\"The constructor sets up the JFrame with a specific layout, loads an image as an icon, adds it to the frame, and starts a thread to control the splash screen's visibility duration.\"), 'run': FunctionDetail(name='run', description=\"Implements the run method from the Runnable interface to control the splash screen's duration and transition to the login screen.\", class_declaration='public void run()', additional_details='The method puts the thread to sleep, making the splash screen visible for a set amount of time before hiding it and showing the login screen.')}),\n",
       " 'src/generate.bill.java': FileConfluenceOutput(file_path='src/generate.bill.java', overall_summary=\"The file 'generate_bill.java' is designed to create a graphical user interface (GUI) application that generates electricity bills for customers based on their meter number and the month. It retrieves customer and billing information from a database and displays the bill in a formatted text area.\", packages={'java.awt.*': PackageDetail(usage='Used for creating and managing GUI components like labels, buttons, and choice boxes.', description='Provides classes for creating user interfaces and for painting graphics and images.'), 'java.awt.event.*': PackageDetail(usage='Used to handle events like button clicks.', description='Provides interfaces and classes for dealing with different types of events fired by AWT components.'), 'javax.swing.*': PackageDetail(usage='Used for creating and managing GUI components like text areas and scroll panes.', description=\"Provides a set of 'lightweight' (all-Java language) components that, to the maximum degree possible, work the same on all platforms.\"), 'java.sql.*': PackageDetail(usage='Used for database connectivity and executing SQL queries.', description='Provides the API for accessing and processing data stored in a data source (usually a relational database) using the Java programming language.')}, functions={'generate_bill': FunctionDetail(name='generate_bill', description=\"Constructor for the 'generate_bill' class. It initializes the GUI components and sets up the layout and functionality of the application.\", class_declaration='public class generate_bill extends JFrame implements ActionListener{', additional_details='Sets up the initial size, layout, components (labels, buttons, choice boxes, text area), and action listeners for the application.'), 'actionPerformed': FunctionDetail(name='actionPerformed', description=\"Handles the action event triggered by the 'Generate Bill' button. It connects to the database, retrieves customer and billing information based on the selected meter number and month, and displays the bill details in the text area.\", class_declaration='public void actionPerformed(ActionEvent ae){', additional_details='Performs database operations to fetch and display bill details. Handles SQLExceptions.'), 'main': FunctionDetail(name='main', description=\"The main method that makes the 'generate_bill' frame visible, marking the starting point of the application.\", class_declaration='public static void main(String[] args){', additional_details=\"Instantiates the 'generate_bill' class and sets the frame visibility to true.\")}),\n",
       " 'src/pay.bill.java': FileConfluenceOutput(file_path='src/pay.bill.java', overall_summary=\"The file 'pay_bill.java' is designed to create a simple GUI application using Java Swing, which displays a webpage for electricity bill payment using Paytm. The main functionality is to provide users with a window containing an embedded web page from Paytm's electricity bill payment service. If the page cannot be loaded, it displays a simple error message.\", packages={'java.awt.*': PackageDetail(usage='Used for creating and managing windows, including various components and event handling.', description='Provides classes for creating user interfaces and for painting graphics and images.'), 'java.awt.event.*': PackageDetail(usage='Provides interfaces and classes for dealing with different types of events fired by AWT components.', description='Used for event handling in the AWT components, not directly utilized in the provided code but typically included for handling events in AWT-based GUI applications.'), 'javax.swing.*': PackageDetail(usage='Used to create window-based applications.', description=\"Provides a set of 'lightweight' (all-Java language) components that, to the maximum degree possible, work the same on all platforms.\")}, functions={'pay_bill': FunctionDetail(name='pay_bill', description=\"Constructor of the 'pay_bill' class. It initializes the GUI components and sets up the main window for the application. It attempts to load the Paytm electricity bill payment webpage. If it fails to load the page, it displays an error message.\", class_declaration='public class pay_bill extends JFrame{\\n    pay_bill(){...}\\n}', additional_details='The constructor uses JEditorPane for displaying HTML content, JScrollPane for adding scroll functionality, and JFrame for the main application window.'), 'main': FunctionDetail(name='main', description=\"The main method of the application. It creates an instance of 'pay_bill' and makes the window visible.\", class_declaration='public static void main(String[] args){\\n        new pay_bill().setVisible(true);\\n    }', additional_details='This is the entry point of the application. It ensures that the GUI is visible to the user upon running the program.')}),\n",
       " 'src/conn.java': FileConfluenceOutput(file_path='src/conn.java', overall_summary=\"The file defines a Java class named 'conn' that is responsible for establishing a connection to a MySQL database. It is designed to connect to a database named 'ebs' on the local machine using the MySQL JDBC driver. The class initializes a connection and a statement object that can be used for executing SQL queries against the database.\", packages={'java.sql': PackageDetail(usage='Used for database connectivity and execution of SQL statements.', description='This package provides the API for accessing and processing data stored in a data source (usually a relational database) using the Java programming language. It includes classes and interfaces for handling database connections, executing SQL queries, and managing the resulting data.')}, functions={'conn': FunctionDetail(name='conn', description=\"Constructor of the 'conn' class that establishes a connection to the MySQL database and initializes a Statement object for executing SQL queries.\", class_declaration='public class conn { Connection c; Statement s; public conn() {...} }', additional_details=\"The constructor attempts to load the MySQL JDBC driver class, establish a connection to the database using the specified URL ('jdbc:mysql://localhost/ebs'), username ('root'), and password ('password'). It then creates a Statement object for sending SQL statements to the database. If any step fails, it prints the exception to the console.\")}),\n",
       " 'src/customer.details.java': FileConfluenceOutput(file_path='src/customer.details.java', overall_summary=\"The file 'customer_details.java' is designed to display customer details in a graphical user interface (GUI) using Java Swing. It fetches customer data from a database and presents it in a table format. The file also includes functionality to print the displayed information.\", packages={'java.awt.*': PackageDetail(usage='Used for creating and managing windows, including various components such as buttons and scroll panes.', description='Provides classes for creating user interfaces and for painting graphics and images.'), 'java.awt.event.*': PackageDetail(usage='Provides interfaces and classes for dealing with different types of events fired by AWT components.', description='Used to handle actions performed by the user, such as clicking a button.'), 'javax.swing.*': PackageDetail(usage='Used to create window-based applications. It is built on top of the AWT API and provides more sophisticated components.', description=\"Provides a set of 'lightweight' (all-Java language) components that, to the maximum degree possible, work the same on all platforms.\"), 'java.sql.*': PackageDetail(usage='Used for JDBC database access. It includes classes and interfaces for handling database operations.', description='Provides the API for accessing and processing data stored in a data source (usually a relational database) using the Java programming language.')}, functions={'customer_details': FunctionDetail(name='customer_details', description='Constructor of the class. It initializes the GUI components and fetches customer data from the database to display in a JTable.', class_declaration='public class customer_details extends JFrame implements ActionListener', additional_details='The constructor sets up the GUI window, initializes a JTable with customer data fetched using a SQL query, and sets up a button for printing the table content.'), 'actionPerformed': FunctionDetail(name='actionPerformed', description=\"Implements the ActionListener interface's actionPerformed method to handle the print button click event.\", class_declaration='public void actionPerformed(ActionEvent ae)', additional_details='Calls the print method of JTable to print the table content when the print button is clicked.'), 'main': FunctionDetail(name='main', description='The main method that makes the customer_details frame visible, effectively starting the application.', class_declaration='public static void main(String[] args)', additional_details='Instantiates the customer_details class and sets the frame visibility to true, thereby launching the GUI application.')})}"
      ]
     },
     "execution_count": 37,
     "metadata": {},
     "output_type": "execute_result"
    }
   ],
   "source": [
    "docs = get_documentation_by_url(repo_url)\n",
    "docs.files"
   ]
  },
  {
   "cell_type": "code",
   "execution_count": 38,
   "metadata": {},
   "outputs": [],
   "source": [
    "# delete_documentation_by_url(repo_url)"
   ]
  },
  {
   "cell_type": "code",
   "execution_count": null,
   "metadata": {},
   "outputs": [],
   "source": [
    "# TODO: Add code to check if the documentation is already present in the database"
   ]
  },
  {
   "cell_type": "code",
   "execution_count": 45,
   "metadata": {},
   "outputs": [],
   "source": [
    "from OverviewChain import OverviewParser, ConfluenceOverviewChain"
   ]
  },
  {
   "cell_type": "code",
   "execution_count": null,
   "metadata": {},
   "outputs": [],
   "source": [
    "total_tokens = num_tokens_from_messages([{\"message\":  str(docs.files)}], model=\"gpt-4-32k-0613\") \n",
    "total_tokens"
   ]
  },
  {
   "cell_type": "code",
   "execution_count": 46,
   "metadata": {},
   "outputs": [
    {
     "name": "stderr",
     "output_type": "stream",
     "text": [
      "2024-04-19 16:49:01,620 - INFO - HTTP Request: POST https://lumnis.openai.azure.com//openai/deployments/gpt4-preview/chat/completions?api-version=2024-03-01-preview \"HTTP/1.1 200 OK\"\n"
     ]
    }
   ],
   "source": [
    "name_of_repo = repo_url.split(\"/\")[-2]\n",
    "res          = ConfluenceOverviewChain.invoke({\"name_of_repo\": name_of_repo, \"repo_data\": str(docs.files), \"output_instructions\": OverviewParser.get_format_instructions()})"
   ]
  },
  {
   "cell_type": "code",
   "execution_count": 49,
   "metadata": {},
   "outputs": [
    {
     "data": {
      "text/plain": [
       "{'overall_summary': 'The Electricity Billing System project is a Java Swing GUI application designed to manage electricity billing operations. It includes functionalities for displaying a splash screen, generating and paying electricity bills, and managing customer details.',\n",
       " 'functionalities': {'User Authentication': 'Not explicitly mentioned but implied through the presence of a login screen transition from the splash screen.',\n",
       "  'Customer Management': 'Allows for the display and printing of customer details fetched from the database.',\n",
       "  'Bill Generation': 'Users can generate electricity bills for customers based on meter number and month.',\n",
       "  'Bill Payment': 'Provides a GUI for bill payment through an embedded Paytm webpage.'},\n",
       " 'project_components': {'Splash Screen Class': 'Handles the display of a splash screen when the application starts.',\n",
       "  'Generate Bill Class': 'Manages the generation of electricity bills through a GUI.',\n",
       "  'Pay Bill Class': 'Displays a GUI for paying electricity bills using Paytm.',\n",
       "  'Customer Details Class': 'Displays customer details in a table format and includes functionality for printing.',\n",
       "  'Database Connection Class': 'Responsible for establishing a connection to the MySQL database for executing SQL queries.'},\n",
       " 'database_components': {'Login Table': 'Implied storage for user login credentials, although not explicitly detailed in the provided files.',\n",
       "  'Customer Table': 'Stores customer details such as name, meter number, and address.',\n",
       "  'Bill Table': 'Stores information about electricity bills including meter number, units consumed, and billing month.'},\n",
       " 'tech_stack': {'Java': 'Primary programming language used for developing the application.',\n",
       "  'Swing': 'Used for creating the graphical user interface components.',\n",
       "  'AWT': 'Used alongside Swing for creating and managing GUI components.',\n",
       "  'JDBC': 'Facilitates communication between the Java application and the MySQL database.',\n",
       "  'MySQL': 'Database used for storing user, customer, and billing information.'}}"
      ]
     },
     "execution_count": 49,
     "metadata": {},
     "output_type": "execute_result"
    }
   ],
   "source": [
    "res"
   ]
  },
  {
   "cell_type": "code",
   "execution_count": 48,
   "metadata": {},
   "outputs": [
    {
     "data": {
      "text/plain": [
       "2109"
      ]
     },
     "execution_count": 48,
     "metadata": {},
     "output_type": "execute_result"
    }
   ],
   "source": []
  },
  {
   "cell_type": "code",
   "execution_count": null,
   "metadata": {},
   "outputs": [],
   "source": []
  }
 ],
 "metadata": {
  "kernelspec": {
   "display_name": "open-interpreter-env",
   "language": "python",
   "name": "python3"
  },
  "language_info": {
   "codemirror_mode": {
    "name": "ipython",
    "version": 3
   },
   "file_extension": ".py",
   "mimetype": "text/x-python",
   "name": "python",
   "nbconvert_exporter": "python",
   "pygments_lexer": "ipython3",
   "version": "3.9.16"
  }
 },
 "nbformat": 4,
 "nbformat_minor": 2
}
