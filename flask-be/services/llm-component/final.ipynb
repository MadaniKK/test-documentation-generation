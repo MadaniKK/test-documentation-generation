{
 "cells": [
  {
   "cell_type": "code",
   "execution_count": 1,
   "metadata": {},
   "outputs": [],
   "source": [
    "%load_ext autoreload\n",
    "%autoreload 2\n",
    "\n",
    "from utils import load_config, set_environment_variables, num_tokens_from_messages, get_git_files, get_data_files\n",
    "import sys\n",
    "import os\n",
    "config       = load_config('config.yaml')\n",
    "set_environment_variables(config)\n",
    "ACCESS_TOKEN = os.environ['GIT_ACCESS_TOKEN']\n",
    "sys.path.append(\"/database\")"
   ]
  },
  {
   "cell_type": "code",
   "execution_count": 2,
   "metadata": {},
   "outputs": [],
   "source": [
    "from database import get_documentation_by_url, put_new_repository_documentation, get_file_documentation, delete_documentation_by_url, get_status, get_status_by_file, external_json_to_repo_overview_output\n",
    "from repo_processor import process_file, parallel_process_files, download_and_process_repo_url, get_repo_overview\n",
    "from OverviewChain import OverviewParser, ConfluenceOverviewChain\n",
    "from concurrent.futures import ThreadPoolExecutor, as_completed\n",
    "from langchain.document_loaders import GithubFileLoader\n",
    "from langchain.callbacks import get_openai_callback\n",
    "from ConfluenceChain import ConfluenceChain, Parser\n",
    "from pymongo import MongoClient\n",
    "import matplotlib.pyplot as plt\n",
    "import networkx as nx\n",
    "from tqdm import tqdm\n",
    "import pandas as pd\n",
    "import nest_asyncio\n",
    "import shutil\n",
    "nest_asyncio.apply()\n"
   ]
  },
  {
   "cell_type": "code",
   "execution_count": 3,
   "metadata": {},
   "outputs": [],
   "source": [
    "repo_url              = \"https://github.com/Adarsh9616/Electricity_Billing_System/\"\n",
    "# repo_url              = \"https://github.com/thuml/Time-Series-Library/\"\n",
    "supported_languages   = ['python', 'java', 'javascript']\n",
    "\n",
    "# data_dict             = download_and_process_repo_url(repo_url, supported_languages)"
   ]
  },
  {
   "cell_type": "code",
   "execution_count": null,
   "metadata": {},
   "outputs": [],
   "source": []
  },
  {
   "cell_type": "code",
   "execution_count": 31,
   "metadata": {},
   "outputs": [],
   "source": [
    "# import boto3\n",
    "# sqs       = boto3.client('sqs', 'us-east-1')\n",
    "# queue_url = 'https://sqs.us-east-1.amazonaws.com/018192622412/doc-gen'\n",
    "# response  = sqs.send_message(\n",
    "#     QueueUrl=queue_url,\n",
    "#     MessageBody=str(\"https://github.com/Adarsh9616/Electricity_Billing_System/\")\n",
    "# )\n",
    "\n",
    "# \"\"\" or \"\"\"\n",
    "\n",
    "# https://bjxdbdicckttmzhrhnpl342k2q0pcthx.lambda-url.us-east-1.on.aws/?repo_url=https://github.com/Adarsh9616/Electricity_Billing_System/"
   ]
  },
  {
   "cell_type": "code",
   "execution_count": 30,
   "metadata": {},
   "outputs": [
    {
     "name": "stdout",
     "output_type": "stream",
     "text": [
      "[{'MessageId': '907db49d-4915-4b94-b643-bed34220873c', 'ReceiptHandle': 'AQEBPOEwO9zDxF4fb+4Av8xejsokvQWSp2x6ceBivpdwfZI9SReJic4X/GbJEpqBwYK+FmvRn1bYEEbCQwWdwnWjJrG3vxiQwyPNk0JqenT9mjMJm1YXqWQ+NeHvQ/GvK3O9PGpxisrC/TigpvIpntgImzFbA+u/R1puRfGf9kzgdLNalyJkOJanM8Dc46QfT37KB+Qch4J+BY97QklQmo//Xs9sWbfUivJxbarHCMi0isYsRa9L0Vjh2wTOYDIcBw1/tLDOySfWejeH7knNVUPdwsHMXpwtyK3mUm77jqJ2KBvqrfOHMJ73RKsjn0tn6mTc+LjFHPac4YKj2otWQmZDtTXER+PF+dKgey/RHojEKaKEnnm/LVkIn+PmstAbd2ER', 'MD5OfBody': '5e8c8de0e3a0c052ec15a8ed582f785c', 'Body': 'https://github.com/Adarsh9616/Electricity_Billing_System/'}]\n",
      "[]\n"
     ]
    }
   ],
   "source": [
    "# response = sqs.receive_message(\n",
    "#     QueueUrl=queue_url,\n",
    "#     MaxNumberOfMessages=1,\n",
    "#     WaitTimeSeconds=1 # Long polling\n",
    "# )\n",
    "\n",
    "# messages = response.get('Messages', [])\n",
    "# print(messages)\n",
    "# while len(messages) != 0:\n",
    "#     response = sqs.receive_message(\n",
    "#         QueueUrl=queue_url,\n",
    "#         MaxNumberOfMessages=1,\n",
    "#         WaitTimeSeconds=1 # Long polling\n",
    "#     )\n",
    "\n",
    "#     messages = response.get('Messages', [])\n",
    "#     print(messages)"
   ]
  },
  {
   "cell_type": "code",
   "execution_count": 4,
   "metadata": {},
   "outputs": [
    {
     "data": {
      "text/plain": [
       "{'repository_url': 'https://github.com/Adarsh9616/Electricity_Billing_System/',\n",
       " 'overall_status': 'Completed',\n",
       " 'file_level_status': {'src/splash.java': 'Completed',\n",
       "  'src/generate.bill.java': 'Completed',\n",
       "  'src/pay.bill.java': 'Completed',\n",
       "  'src/conn.java': 'Completed',\n",
       "  'src/customer.details.java': 'Completed',\n",
       "  'src/login.java': 'Completed',\n",
       "  'src/new.customer.java': 'Completed',\n",
       "  'src/Project.java': 'Completed',\n",
       "  'src/LastBill.java': 'Completed',\n",
       "  'src/calculate.bill.java': 'Completed'}}"
      ]
     },
     "execution_count": 4,
     "metadata": {},
     "output_type": "execute_result"
    }
   ],
   "source": [
    "status_url = get_status(repo_url)\n",
    "# get_status_by_file(repo_url, file_name)\n",
    "status_url"
   ]
  },
  {
   "cell_type": "code",
   "execution_count": 5,
   "metadata": {},
   "outputs": [
    {
     "name": "stdout",
     "output_type": "stream",
     "text": [
      "Now the file path is src/splash.java\n",
      "Now the file path is src/generate.bill.java\n",
      "Now the file path is src/pay.bill.java\n",
      "Now the file path is src/conn.java\n",
      "Now the file path is src/customer.details.java\n",
      "Now the file path is src/login.java\n",
      "Now the file path is src/new.customer.java\n",
      "Now the file path is src/Project.java\n",
      "Now the file path is src/LastBill.java\n",
      "Now the file path is src/calculate.bill.java\n",
      "Now the file path is src/splash.java\n"
     ]
    },
    {
     "data": {
      "text/plain": [
       "{'src/splash.java': FileConfluenceOutput(file_path='src/splash.java', overall_summary='The file defines a Java application that creates a splash screen for an Electricity Billing System. It uses a JFrame to display an animated splash screen before transitioning to a login screen.', packages={'java.awt': PackageDetail(usage='Used for creating and managing GUI components, such as layouts and images.', description='Provides classes for creating user interfaces and for painting graphics and images.'), 'javax.swing': PackageDetail(usage='Used for creating the GUI components, such as JFrame and JLabel.', description=\"Provides a set of 'lightweight' (all-Java language) components that, to the maximum degree possible, work the same on all platforms.\")}, functions={'main': FunctionDetail(name='main', description='The entry point of the application. It creates and displays the splash screen with an animation effect.', class_declaration='', additional_details='The main function uses a for loop to create an animation effect by dynamically changing the size and location of the splash screen.'), 'fframe': FunctionDetail(name='fframe', description='A constructor for the fframe class which initializes the JFrame with a splash image and starts a thread for the splash screen animation.', class_declaration='public static class fframe extends JFrame implements Runnable', additional_details='The fframe class includes a run method that hides the splash screen and shows the login screen after a delay.'), 'run': FunctionDetail(name='run', description='Executed by the thread started in the fframe constructor, it manages the delay before transitioning from the splash screen to the login screen.', class_declaration='public void run() in class fframe', additional_details='The run method uses Thread.sleep to create a delay, then hides the splash screen and displays the login screen.')}),\n",
       " 'src/generate.bill.java': FileConfluenceOutput(file_path='src/generate.bill.java', overall_summary=\"The file 'generate_bill.java' is designed to create a graphical user interface (GUI) application that generates electricity bills for customers based on their meter number and the month. It retrieves customer and billing information from a database and displays it in a formatted text area within the application window.\", packages={'java.awt.*': PackageDetail(usage='Used for creating and managing GUI components like labels, buttons, and panels.', description='Provides classes for creating user interfaces and for painting graphics and images.'), 'java.awt.event.*': PackageDetail(usage='Used to handle events like button clicks.', description='Provides interfaces and classes for dealing with different types of events fired by AWT components.'), 'javax.swing.*': PackageDetail(usage='Used for creating and managing Swing components like JTextArea, JScrollPane, and JFrame.', description=\"Provides a set of 'lightweight' (all-Java language) components that, to the maximum degree possible, work the same on all platforms.\"), 'java.sql.*': PackageDetail(usage='Used for database connectivity and executing SQL queries.', description='Provides the API for accessing and processing data stored in a data source (usually a relational database) using the Java programming language.')}, functions={'generate_bill': FunctionDetail(name='generate_bill', description=\"Constructor for the 'generate_bill' class. It initializes the GUI components and sets up the layout and functionality of the application window.\", class_declaration='public class generate_bill extends JFrame implements ActionListener', additional_details=\"Sets up the GUI layout, initializes components like labels, buttons, choice dropdowns, and text area. Also, adds action listener to the 'Generate Bill' button.\"), 'actionPerformed': FunctionDetail(name='actionPerformed', description=\"Handles the action event triggered by clicking the 'Generate Bill' button. It connects to the database, retrieves customer and billing information based on the selected meter number and month, and displays the formatted bill in the text area.\", class_declaration='public void actionPerformed(ActionEvent ae)', additional_details=\"Performs database connectivity using the 'conn' class, executes SQL queries to fetch customer details, tax information, and billing details, and formats these details to display in the text area.\"), 'main': FunctionDetail(name='main', description=\"The main method that makes the 'generate_bill' application window visible.\", class_declaration='public static void main(String[] args)', additional_details=\"Instantiates the 'generate_bill' class and sets the application window to be visible.\")}),\n",
       " 'src/pay.bill.java': FileConfluenceOutput(file_path='src/pay.bill.java', overall_summary=\"The file 'pay_bill.java' is designed to create a simple GUI application using Java Swing, which displays a webpage for electricity bill payment using Paytm. The main functionality is to open a specific URL within a JFrame window, providing users with a convenient way to access the bill payment page directly from the application.\", packages={'java.awt': PackageDetail(usage='Used for creating and managing GUI components such as dimensions and event handling.', description='The java.awt package contains all the classes for creating user interfaces and for painting graphics and images.'), 'java.awt.event': PackageDetail(usage='Used for handling events like actions performed by the user.', description='This package provides interfaces and classes for dealing with different types of events fired by AWT components.'), 'javax.swing': PackageDetail(usage='Used for creating the GUI components like JFrame, JEditorPane, and JScrollPane.', description=\"Provides a set of 'lightweight' (all-Java language) components that, to the maximum degree possible, work the same on all platforms.\")}, functions={'pay_bill': FunctionDetail(name='pay_bill', description=\"Constructor for the 'pay_bill' class. It initializes the GUI components and sets up the JFrame window to display the Paytm electricity bill payment webpage. If the page cannot be loaded, it displays an error message within the JEditorPane.\", class_declaration='public class pay_bill extends JFrame{\\n    pay_bill(){...}\\n}', additional_details='The constructor uses a JEditorPane to load and display the webpage. It also handles exceptions by displaying a simple error message if the webpage cannot be loaded. The JFrame window is set to a specific size and made visible.'), 'main': FunctionDetail(name='main', description=\"The main method for the 'pay_bill' class. It creates an instance of the 'pay_bill' class and sets the JFrame visibility to true, effectively starting the application.\", class_declaration='public static void main(String[] args){\\n        new pay_bill().setVisible(true);\\n    }', additional_details='This is the entry point of the application. It ensures that the GUI window is displayed when the program is run.')}),\n",
       " 'src/conn.java': FileConfluenceOutput(file_path='src/conn.java', overall_summary=\"The file defines a Java class named 'conn' that is responsible for establishing a connection to a MySQL database. It is designed to connect to a database named 'ebs' on the local machine using the MySQL JDBC driver. The class initializes a connection and a statement object that can be used for executing SQL queries against the database.\", packages={'java.sql': PackageDetail(usage='Used for database connectivity and execution of SQL statements.', description='This package provides the API for accessing and processing data stored in a data source (usually a relational database) using the Java programming language. It includes classes and interfaces for handling database connections, executing SQL statements, and retrieving results.')}, functions={'conn': FunctionDetail(name='conn', description='Constructor that establishes a connection to the MySQL database and initializes a Statement object.', class_declaration='public class conn\\n{\\n    Connection c;\\n    Statement s;\\n    public conn()\\n    {\\n        try\\n        {\\n            Class.forName(\"com.mysql.jdbc.Driver\");\\n            c=DriverManager.getConnection(\"jdbc:mysql://localhost/ebs\",\"root\",\"password\");\\n            s=c.createStatement();\\n        }\\n        catch(Exception e)\\n        {\\n            System.out.println(e);\\n        }\\n    }\\n}', additional_details='')}),\n",
       " 'src/customer.details.java': FileConfluenceOutput(file_path='src/customer.details.java', overall_summary='This file defines a Java Swing application that displays customer details in a table format. It fetches data from a database using JDBC and presents it in a GUI window. The application allows for printing the displayed information.', packages={'java.awt.*': PackageDetail(usage='Used for creating and managing GUI components like buttons and events.', description='Provides classes for creating user interfaces and for painting graphics and images.'), 'java.awt.event.*': PackageDetail(usage='Used for handling action events triggered by GUI components.', description='Provides interfaces and classes for dealing with different types of events fired by AWT components.'), 'javax.swing.*': PackageDetail(usage='Used for creating and managing Swing components like JTable and JButton.', description=\"Provides a set of 'lightweight' (all-Java language) components that, to the maximum degree possible, work the same on all platforms.\"), 'java.sql.*': PackageDetail(usage='Used for connecting to and executing queries with a database.', description='Provides the API for accessing and processing data stored in a data source (usually a relational database) using the Java programming language.')}, functions={'customer_details': FunctionDetail(name='customer_details', description='Constructor for the customer_details class. It initializes the GUI components and fetches customer data from the database to display in a JTable.', class_declaration='public class customer_details extends JFrame implements ActionListener{', additional_details='The constructor sets up the JFrame window, initializes a JTable with customer data fetched using JDBC, and adds a print button with an action listener.'), 'actionPerformed': FunctionDetail(name='actionPerformed', description='Handles the print button click event to print the displayed customer details.', class_declaration='public void actionPerformed(ActionEvent ae){', additional_details='This method is triggered when the print button is clicked. It calls the print method of JTable.'), 'main': FunctionDetail(name='main', description='The entry point of the application. It creates an instance of customer_details and makes the window visible.', class_declaration='public static void main(String[] args){', additional_details='This static method instantiates the customer_details class and sets the visibility of the GUI window to true, starting the application.')}),\n",
       " 'src/login.java': FileConfluenceOutput(file_path='src/login.java', overall_summary='The file defines a Java Swing application for a login interface. It creates a graphical user interface (GUI) where users can enter their username and password. If the credentials match those in the database, the user is granted access to a new window (presumably the main application window); otherwise, an error message is displayed.', packages={'java.awt': PackageDetail(usage='Used for creating and managing GUI components like buttons and panels, and for handling events.', description='Provides classes for creating user interfaces and for painting graphics and images.'), 'javax.swing': PackageDetail(usage='Used for creating and managing Swing components like JLabels, JTextFields, JPasswordFields, and JButtons.', description=\"Provides a set of 'lightweight' (all-Java language) components that, to the maximum degree possible, work the same on all platforms.\"), 'java.awt.event': PackageDetail(usage='Used for handling action events triggered by components in the GUI.', description='Provides interfaces and classes for dealing with different types of events fired by AWT components.'), 'java.sql': PackageDetail(usage='Used for managing the database connection, executing SQL queries, and handling the results.', description='Provides the API for accessing and processing data stored in a data source (usually a relational database) using the Java programming language.')}, functions={'login': FunctionDetail(name='login', description='Constructor that initializes the login window, its components, and sets up the GUI layout.', class_declaration='public class login extends JFrame implements ActionListener', additional_details='Sets up labels, text fields, password fields, buttons, and panels. Also, it adds action listeners to buttons.'), 'actionPerformed': FunctionDetail(name='actionPerformed', description='Handles button click events for the login interface. It checks the database for matching username and password. If a match is found, it opens a new window and closes the login window. Otherwise, it shows an error message.', class_declaration='public void actionPerformed(ActionEvent ae)', additional_details='Uses SQL query to check credentials against the database. Displays either the main application window or an error message based on the result.'), 'main': FunctionDetail(name='main', description='The main method that makes the login window visible, effectively starting the application.', class_declaration='public static void main(String[] args)', additional_details='Instantiates the login class and sets the window to be visible.')}),\n",
       " 'src/new.customer.java': FileConfluenceOutput(file_path='src/new.customer.java', overall_summary=\"The file 'new_customer.java' is designed to create a graphical user interface (GUI) for adding new customers into a system. It extends JFrame and implements ActionListener to handle user interactions. The GUI includes text fields for entering customer details such as name, meter number, address, state, city, email, and phone number, along with submit and cancel buttons. Upon submission, the customer details are inserted into a database.\", packages={'java.awt.*': PackageDetail(usage='Used for creating and managing GUI components like labels, text fields, and buttons.', description='Provides classes for creating user interfaces and for painting graphics and images.'), 'java.awt.event.*': PackageDetail(usage='Used to handle events like button clicks.', description='Provides interfaces and classes for dealing with different types of events fired by AWT components.'), 'javax.swing.*': PackageDetail(usage='Used for creating the GUI components like JFrame, JPanel, JLabel, JTextField, and JButton.', description=\"Provides a set of 'lightweight' (all-Java language) components that, to the maximum degree possible, work the same on all platforms.\"), 'java.sql.*': PackageDetail(usage='Used for database connectivity and executing SQL queries.', description='Provides the API for accessing and processing data stored in a data source (usually a relational database) using the Java programming language.')}, functions={'new_customer': FunctionDetail(name='new_customer', description='Constructor for the new_customer class. It initializes the GUI components and sets up the layout and action listeners.', class_declaration='public class new_customer extends JFrame implements ActionListener{', additional_details='Sets up the GUI layout, initializes components, and registers action listeners.'), 'actionPerformed': FunctionDetail(name='actionPerformed', description='Handles actions performed on the GUI components, specifically the submit and cancel buttons. It retrieves the text from the input fields, constructs an SQL query, and inserts the new customer data into the database.', class_declaration='public void actionPerformed(ActionEvent ae){', additional_details='Checks which button was clicked and performs the corresponding action. For the submit button, it connects to the database and inserts the customer data.'), 'main': FunctionDetail(name='main', description='The main method that makes the new_customer GUI visible.', class_declaration='public static void main(String[] args){', additional_details='Instantiates a new new_customer object and sets its visibility to true.')}),\n",
       " 'src/Project.java': FileConfluenceOutput(file_path='src/Project.java', overall_summary='This file defines a Java Swing application for an Electricity Billing System. It sets up the main window (JFrame) with a background image and a menu bar containing various options for managing customer details, utility bills, and reports. The application allows users to add new customers, view customer details, calculate and pay bills, and access utility tools like a notepad, calculator, and web browser directly from the interface.', packages={'java.awt': PackageDetail(usage='Used for creating and managing GUI components like fonts, colors, and layout.', description='Provides classes for creating user interfaces and for painting graphics and images.'), 'java.awt.event': PackageDetail(usage='Used for handling action events triggered by the user.', description='Provides interfaces and classes for dealing with different types of events fired by AWT components.'), 'javax.swing': PackageDetail(usage=\"Used for creating the application's window, menu bar, and menu items.\", description=\"Provides a set of 'lightweight' (all-Java language) components that, to the maximum degree possible, work the same on all platforms.\")}, functions={'Project': FunctionDetail(name='Project', description='Constructor for the main application window. It initializes the GUI components and sets up the event listeners.', class_declaration='public class Project extends JFrame implements ActionListener{ Project(){...}}', additional_details='Sets up the main JFrame with a background, menu bar, and menu items for different functionalities like managing customer details, utility bills, and accessing tools.'), 'actionPerformed': FunctionDetail(name='actionPerformed', description='Handles user actions triggered by menu item selections.', class_declaration='public void actionPerformed(ActionEvent ae){...}', additional_details='Depending on the action command, it performs actions like opening new windows for customer details, calculating bills, or launching external applications like notepad, calculator, and web browser.'), 'main': FunctionDetail(name='main', description='The entry point of the application.', class_declaration='public static void main(String[] args){...}', additional_details='Creates an instance of the Project class and makes the main window visible.')}),\n",
       " 'src/LastBill.java': FileConfluenceOutput(file_path='src/LastBill.java', overall_summary='The file defines a Java Swing application that generates and displays the last bill details for a selected customer from a database. It uses a graphical user interface (GUI) to allow users to select a customer and view their billing information.', packages={'java.awt.*': PackageDetail(usage='Used for creating and managing GUI components like labels, buttons, and choice components.', description='Provides classes for creating user interfaces and for painting graphics and images.'), 'java.awt.event.*': PackageDetail(usage='Used to handle events like button clicks.', description='Provides interfaces and classes for dealing with different types of events fired by AWT components.'), 'javax.swing.*': PackageDetail(usage='Used for creating and managing Swing components like JFrame, JTextArea, JScrollPane, and JButton.', description=\"Provides a set of 'lightweight' (all-Java language) components that, to the maximum degree possible, work the same on all platforms.\"), 'java.sql.*': PackageDetail(usage='Used for database connectivity and executing SQL queries.', description='Provides the API for accessing and processing data stored in a data source (usually a relational database) using the Java programming language.')}, functions={'LastBill': FunctionDetail(name='LastBill', description='Constructor of the LastBill class. It initializes the GUI components and sets up the layout and functionality of the application.', class_declaration='public class LastBill extends JFrame implements ActionListener', additional_details='Sets up the JFrame size, layout, adds components to the frame, and registers action listeners.'), 'actionPerformed': FunctionDetail(name='actionPerformed', description='Overrides the actionPerformed method from the ActionListener interface to handle button click events. It fetches and displays the customer and billing information based on the selected customer from the choice component.', class_declaration='public void actionPerformed(ActionEvent ae)', additional_details='Connects to the database to retrieve customer and billing information and displays it in the JTextArea component.'), 'main': FunctionDetail(name='main', description='The main method that makes the LastBill frame visible, marking the starting point of the application.', class_declaration='public static void main(String[] args)', additional_details='Instantiates the LastBill class and sets the frame visibility to true.')}),\n",
       " 'src/calculate.bill.java': FileConfluenceOutput(file_path='src/calculate.bill.java', overall_summary='This Java file defines a GUI application for calculating electricity bills. It allows users to select a meter number and month, enter the units consumed, and then calculates the bill based on a predefined rate. The calculated bill is then inserted into a database.', packages={'java.awt.*': PackageDetail(usage='Used for creating and managing GUI components like labels, buttons, and panels.', description='Provides classes for creating user interfaces and for painting graphics and images.'), 'java.awt.event.*': PackageDetail(usage='Used to handle events like button clicks.', description='Provides interfaces and classes for dealing with different types of events fired by AWT components.'), 'javax.swing.*': PackageDetail(usage='Used for creating and managing Swing components like JFrame, JLabel, JTextField, JButton, and Choice.', description=\"Provides a set of 'lightweight' (all-Java language) components that, to the maximum degree possible, work the same on all platforms.\"), 'java.sql.*': PackageDetail(usage='Used for database connectivity and execution of SQL queries.', description='Provides the API for accessing and processing data stored in a data source (usually a relational database) using the Java programming language.')}, functions={'calculate_bill': FunctionDetail(name='calculate_bill', description='Constructor for the calculate_bill class. It initializes the GUI components and sets up the layout and event listeners.', class_declaration='public class calculate_bill extends JFrame implements ActionListener', additional_details='Sets up a JFrame with labels, text field, choice components, and buttons for submitting or canceling the bill calculation. It also handles the layout and background color.'), 'actionPerformed': FunctionDetail(name='actionPerformed', description='Handles the actions performed on the GUI components, specifically the submit and cancel buttons. It calculates the bill based on the units consumed and updates the database with the new bill.', class_declaration='public void actionPerformed(ActionEvent ae)', additional_details='Retrieves the meter number, units consumed, and month from the GUI components, calculates the bill, and inserts it into the database. Shows a message dialog upon successful update.'), 'main': FunctionDetail(name='main', description='The main method that makes the calculate_bill frame visible, marking the starting point of the application.', class_declaration='public static void main(String[] args)', additional_details='Instantiates the calculate_bill class and sets the frame visibility to true, thereby starting the application.')})}"
      ]
     },
     "execution_count": 5,
     "metadata": {},
     "output_type": "execute_result"
    }
   ],
   "source": [
    "docs = get_documentation_by_url(repo_url)\n",
    "docs.files"
   ]
  },
  {
   "cell_type": "code",
   "execution_count": 6,
   "metadata": {},
   "outputs": [],
   "source": [
    "# delete_documentation_by_url(repo_url)"
   ]
  },
  {
   "cell_type": "code",
   "execution_count": 7,
   "metadata": {},
   "outputs": [],
   "source": [
    "# name_of_repo = repo_url.split(\"/\")[-2]\n",
    "# res          = get_repo_overview(name_of_repo, str(docs.files))"
   ]
  },
  {
   "cell_type": "code",
   "execution_count": 4,
   "metadata": {},
   "outputs": [],
   "source": [
    "repo_url            = \"https://github.com/Adarsh9616/Electricity_Billing_System/\"\n",
    "url_to_process_repo = f\"https://bjxdbdicckttmzhrhnpl342k2q0pcthx.lambda-url.us-east-1.on.aws/?repo_url={repo_url}\"\n",
    "\n",
    "import requests\n",
    "response            = requests.get(url_to_process_repo)\n"
   ]
  },
  {
   "cell_type": "code",
   "execution_count": 5,
   "metadata": {},
   "outputs": [
    {
     "data": {
      "text/plain": [
       "'Repository URL successfully enqueued: https://github.com/Adarsh9616/Electricity_Billing_System/'"
      ]
     },
     "execution_count": 5,
     "metadata": {},
     "output_type": "execute_result"
    }
   ],
   "source": [
    "response.json()"
   ]
  },
  {
   "cell_type": "code",
   "execution_count": null,
   "metadata": {},
   "outputs": [],
   "source": []
  }
 ],
 "metadata": {
  "kernelspec": {
   "display_name": "open-interpreter-env",
   "language": "python",
   "name": "python3"
  },
  "language_info": {
   "codemirror_mode": {
    "name": "ipython",
    "version": 3
   },
   "file_extension": ".py",
   "mimetype": "text/x-python",
   "name": "python",
   "nbconvert_exporter": "python",
   "pygments_lexer": "ipython3",
   "version": "3.9.16"
  }
 },
 "nbformat": 4,
 "nbformat_minor": 2
}
