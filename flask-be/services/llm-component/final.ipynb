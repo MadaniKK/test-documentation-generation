{
 "cells": [
  {
   "cell_type": "code",
   "execution_count": 1,
   "metadata": {},
   "outputs": [],
   "source": [
    "%load_ext autoreload\n",
    "%autoreload 2\n",
    "\n",
    "from utils import load_config, set_environment_variables, num_tokens_from_messages, get_git_files, get_data_files\n",
    "import sys\n",
    "import os\n",
    "config       = load_config('config.yaml')\n",
    "set_environment_variables(config)\n",
    "ACCESS_TOKEN = os.environ['GIT_ACCESS_TOKEN']\n",
    "sys.path.append(\"/database\")"
   ]
  },
  {
   "cell_type": "code",
   "execution_count": 2,
   "metadata": {},
   "outputs": [],
   "source": [
    "from database import get_documentation_by_url, put_new_repository_documentation, get_file_documentation, delete_documentation_by_url, get_status, get_status_by_file, external_json_to_repo_overview_output\n",
    "from repo_processor import process_file, parallel_process_files, download_and_process_repo_url, get_repo_overview\n",
    "from OverviewChain import OverviewParser, ConfluenceOverviewChain\n",
    "from concurrent.futures import ThreadPoolExecutor, as_completed\n",
    "from langchain.document_loaders import GithubFileLoader\n",
    "from langchain.callbacks import get_openai_callback\n",
    "from ConfluenceChain import ConfluenceChain, Parser\n",
    "from pymongo import MongoClient\n",
    "import matplotlib.pyplot as plt\n",
    "import networkx as nx\n",
    "from tqdm import tqdm\n",
    "import pandas as pd\n",
    "import nest_asyncio\n",
    "import shutil\n",
    "nest_asyncio.apply()\n"
   ]
  },
  {
   "cell_type": "code",
   "execution_count": 3,
   "metadata": {},
   "outputs": [],
   "source": [
    "repo_url              = \"https://github.com/Adarsh9616/Electricity_Billing_System/\"\n",
    "# repo_url              = \"https://github.com/thuml/Time-Series-Library/\"\n",
    "supported_languages   = ['python', 'java', 'javascript']\n",
    "\n",
    "# data_dict             = download_and_process_repo_url(repo_url, supported_languages)"
   ]
  },
  {
   "cell_type": "code",
   "execution_count": null,
   "metadata": {},
   "outputs": [],
   "source": []
  },
  {
   "cell_type": "code",
   "execution_count": 31,
   "metadata": {},
   "outputs": [],
   "source": [
    "# import boto3\n",
    "# sqs       = boto3.client('sqs', 'us-east-1')\n",
    "# queue_url = 'https://sqs.us-east-1.amazonaws.com/018192622412/doc-gen'\n",
    "# response  = sqs.send_message(\n",
    "#     QueueUrl=queue_url,\n",
    "#     MessageBody=str(\"https://github.com/Adarsh9616/Electricity_Billing_System/\")\n",
    "# )\n",
    "\n",
    "# \"\"\" or \"\"\"\n",
    "\n",
    "# https://bjxdbdicckttmzhrhnpl342k2q0pcthx.lambda-url.us-east-1.on.aws/?repo_url=https://github.com/Adarsh9616/Electricity_Billing_System/"
   ]
  },
  {
   "cell_type": "code",
   "execution_count": 30,
   "metadata": {},
   "outputs": [
    {
     "name": "stdout",
     "output_type": "stream",
     "text": [
      "[{'MessageId': '907db49d-4915-4b94-b643-bed34220873c', 'ReceiptHandle': 'AQEBPOEwO9zDxF4fb+4Av8xejsokvQWSp2x6ceBivpdwfZI9SReJic4X/GbJEpqBwYK+FmvRn1bYEEbCQwWdwnWjJrG3vxiQwyPNk0JqenT9mjMJm1YXqWQ+NeHvQ/GvK3O9PGpxisrC/TigpvIpntgImzFbA+u/R1puRfGf9kzgdLNalyJkOJanM8Dc46QfT37KB+Qch4J+BY97QklQmo//Xs9sWbfUivJxbarHCMi0isYsRa9L0Vjh2wTOYDIcBw1/tLDOySfWejeH7knNVUPdwsHMXpwtyK3mUm77jqJ2KBvqrfOHMJ73RKsjn0tn6mTc+LjFHPac4YKj2otWQmZDtTXER+PF+dKgey/RHojEKaKEnnm/LVkIn+PmstAbd2ER', 'MD5OfBody': '5e8c8de0e3a0c052ec15a8ed582f785c', 'Body': 'https://github.com/Adarsh9616/Electricity_Billing_System/'}]\n",
      "[]\n"
     ]
    }
   ],
   "source": [
    "# response = sqs.receive_message(\n",
    "#     QueueUrl=queue_url,\n",
    "#     MaxNumberOfMessages=1,\n",
    "#     WaitTimeSeconds=1 # Long polling\n",
    "# )\n",
    "\n",
    "# messages = response.get('Messages', [])\n",
    "# print(messages)\n",
    "# while len(messages) != 0:\n",
    "#     response = sqs.receive_message(\n",
    "#         QueueUrl=queue_url,\n",
    "#         MaxNumberOfMessages=1,\n",
    "#         WaitTimeSeconds=1 # Long polling\n",
    "#     )\n",
    "\n",
    "#     messages = response.get('Messages', [])\n",
    "#     print(messages)"
   ]
  },
  {
   "cell_type": "code",
   "execution_count": 10,
   "metadata": {},
   "outputs": [
    {
     "data": {
      "text/plain": [
       "{'repository_url': 'https://github.com/Adarsh9616/Electricity_Billing_System/',\n",
       " 'overall_status': 'Completed',\n",
       " 'file_level_status': {'src/splash.java': 'Completed',\n",
       "  'src/generate.bill.java': 'Completed',\n",
       "  'src/pay.bill.java': 'Completed',\n",
       "  'src/conn.java': 'Completed',\n",
       "  'src/customer.details.java': 'Completed',\n",
       "  'src/login.java': 'Completed',\n",
       "  'src/new.customer.java': 'Completed',\n",
       "  'src/Project.java': 'Completed',\n",
       "  'src/LastBill.java': 'Completed',\n",
       "  'src/calculate.bill.java': 'Completed',\n",
       "  'repo.overview.data': 'Completed'}}"
      ]
     },
     "execution_count": 10,
     "metadata": {},
     "output_type": "execute_result"
    }
   ],
   "source": [
    "status_url = get_status(repo_url)\n",
    "# get_status_by_file(repo_url, file_name)\n",
    "status_url"
   ]
  },
  {
   "cell_type": "code",
   "execution_count": null,
   "metadata": {},
   "outputs": [],
   "source": [
    "# edit database_json_to_respsitory_confluence_output\n",
    "# edit add_project_overview_to_repository"
   ]
  },
  {
   "cell_type": "code",
   "execution_count": 9,
   "metadata": {},
   "outputs": [
    {
     "name": "stdout",
     "output_type": "stream",
     "text": [
      "Now the file path is src/conn.java\n",
      "Now the file path is src/splash.java\n",
      "Now the file path is src/Project.java\n",
      "Now the file path is src/login.java\n",
      "Now the file path is src/calculate.bill.java\n",
      "Now the file path is src/new.customer.java\n",
      "Now the file path is src/customer.details.java\n",
      "Now the file path is src/generate.bill.java\n",
      "Now the file path is src/pay.bill.java\n",
      "Now the file path is src/LastBill.java\n"
     ]
    },
    {
     "data": {
      "text/plain": [
       "{'src/conn.java': FileConfluenceOutput(file_path='src/conn.java', overall_summary=\"The file 'conn.java' is designed to establish a connection to a MySQL database using JDBC. It defines a class named 'conn' that initializes a connection and a statement object upon instantiation. This class is likely used throughout an application to interact with a database named 'ebs' hosted locally.\", packages={'java.sql': PackageDetail(usage='Used for database access and manipulation', description='This package provides the API for accessing and processing data stored in a data source (usually a relational database) using the Java programming language. It includes classes and interfaces for handling database connections, executing SQL statements, and retrieving results.')}, functions={'conn': FunctionDetail(name='conn', description='Constructor that establishes a database connection and initializes a statement object.', class_declaration='public class conn\\n{\\n    Connection c;\\n    Statement s;\\n    public conn()\\n    {\\n        try\\n        {\\n            Class.forName(\"com.mysql.jdbc.Driver\");\\n            c=DriverManager.getConnection(\"jdbc:mysql://localhost/ebs\",\"root\",\"password\");\\n            s=c.createStatement();\\n        }\\n        catch(Exception e)\\n        {\\n            System.out.println(e);\\n        }\\n    }\\n}', additional_details='')}),\n",
       " 'src/splash.java': FileConfluenceOutput(file_path='src/splash.java', overall_summary='The file defines a Java application that creates a splash screen for an Electricity Billing System. It uses a JFrame to display an animated splash screen before transitioning to a login screen.', packages={'java.awt': PackageDetail(usage='Used for creating and managing GUI components, such as layouts and images.', description='Provides classes for creating user interfaces and for painting graphics and images.'), 'javax.swing': PackageDetail(usage='Used for creating the GUI components, such as JFrame and JLabel.', description=\"Provides a set of 'lightweight' (all-Java language) components that, to the maximum degree possible, work the same on all platforms.\")}, functions={'main': FunctionDetail(name='main', description='The entry point of the application. It creates and displays the splash screen with an animation effect.', class_declaration='public static void main(String args[])', additional_details='Creates an instance of fframe, makes it visible, and animates its size and location.'), 'fframe': FunctionDetail(name='fframe', description=\"A constructor for the fframe class which initializes the JFrame with a splash image and starts a thread for the splash screen's display duration.\", class_declaration='public static class fframe extends JFrame implements Runnable', additional_details='Sets up the JFrame with a specific title, layout, and an image. Also initializes and starts a thread for running the splash screen.'), 'run': FunctionDetail(name='run', description=\"Overrides the run method of the Runnable interface to define the splash screen's display duration and transition to the login screen.\", class_declaration='public void run()', additional_details='Sleeps for a specified duration before making the splash screen invisible and displaying the login screen.')}),\n",
       " 'src/Project.java': FileConfluenceOutput(file_path='src/Project.java', overall_summary='This file defines a Java Swing application for an Electricity Billing System. It sets up the main window (JFrame) of the application, including the menu bar with various options related to electricity billing such as managing customer details, calculating and paying bills, and utility tools like Notepad, Calculator, and Web Browser. The application uses action listeners to respond to user interactions with the menu items.', packages={'java.awt': PackageDetail(usage='Used for creating and managing windows, including various components like fonts and colors.', description='Provides classes for creating user interfaces and for painting graphics and images.'), 'java.awt.event': PackageDetail(usage='Used for handling events like actions performed by the user.', description='Provides interfaces and classes for dealing with different types of events fired by AWT components.'), 'javax.swing': PackageDetail(usage='Used for creating and managing Swing components like JFrame, JMenu, JMenuItem, etc.', description=\"Provides a set of 'lightweight' (all-Java language) components that, to the maximum degree possible, work the same on all platforms.\")}, functions={'Project': FunctionDetail(name='Project', description='Constructor for the main application window. It initializes the GUI components and sets up the event listeners.', class_declaration='public class Project extends JFrame implements ActionListener{', additional_details='Sets up the main JFrame with a background image, menu bar, and various menu items for different functionalities.'), 'actionPerformed': FunctionDetail(name='actionPerformed', description='Handles user actions performed on the menu items.', class_declaration='public void actionPerformed(ActionEvent ae){', additional_details='Depending on the menu item selected by the user, it performs actions such as opening new windows for customer details, calculating bills, or launching external applications like Notepad.'), 'main': FunctionDetail(name='main', description='The main method that launches the application.', class_declaration='public static void main(String[] args){', additional_details='Creates an instance of the Project class and makes the main window visible.')}),\n",
       " 'src/login.java': FileConfluenceOutput(file_path='src/login.java', overall_summary='This Java file defines a simple graphical user interface (GUI) for a login page using Swing components. It is designed to authenticate users by checking their credentials against a database. Upon successful authentication, it redirects to a new window (presumably the main application window) and displays an error message for invalid login attempts.', packages={'java.awt': PackageDetail(usage='Used for including classes for various GUI components like Image and Color.', description='Provides classes for creating user interfaces and for painting graphics and images.'), 'javax.swing': PackageDetail(usage='Used for Swing components like JFrame, JLabel, JTextField, JPasswordField, JButton, and JPanel to create the login form.', description=\"Provides a set of 'lightweight' (all-Java language) components that, to the maximum degree possible, work the same on all platforms.\"), 'java.awt.event': PackageDetail(usage='Used for handling action events triggered by buttons.', description='Provides interfaces and classes for dealing with different types of events fired by AWT components.'), 'java.sql': PackageDetail(usage='Used for database connectivity to validate user credentials.', description='Provides the API for accessing and processing data stored in a data source (usually a relational database) using the Java programming language.')}, functions={'login': FunctionDetail(name='login', description='Constructor for the login class. It initializes the GUI components and sets up the layout and behavior of the login page.', class_declaration='public class login extends JFrame implements ActionListener', additional_details='The constructor sets up labels, text fields, password fields, and buttons, and configures their layout using BorderLayout. It also registers action listeners for the buttons.'), 'actionPerformed': FunctionDetail(name='actionPerformed', description=\"Implements the ActionListener interface's actionPerformed method to handle button click events.\", class_declaration='public void actionPerformed(ActionEvent ae)', additional_details='This method checks the login credentials against a database. If the credentials are valid, it opens a new window and hides the login window. Otherwise, it shows an error message.'), 'main': FunctionDetail(name='main', description='The main method that makes the login window visible, effectively starting the application.', class_declaration='public static void main(String[] args)', additional_details='This static method creates an instance of the login class and sets its visibility to true, displaying the login window to the user.')}),\n",
       " 'src/calculate.bill.java': FileConfluenceOutput(file_path='src/calculate.bill.java', overall_summary=\"The file 'calculate_bill.java' is designed to calculate and record electricity bills. It provides a graphical user interface (GUI) for users to input the meter number, the number of units consumed, and the month. The bill is calculated based on the units consumed, and the result is inserted into a database. The file uses Java Swing for the GUI components and JDBC for database connectivity.\", packages={'java.awt.*': PackageDetail(usage='Used for creating and managing GUI components like labels, text fields, and buttons.', description='Provides classes for creating user interfaces and for painting graphics and images.'), 'java.awt.event.*': PackageDetail(usage='Used to handle events like button clicks.', description='Provides interfaces and classes for dealing with different types of events fired by AWT components.'), 'javax.swing.*': PackageDetail(usage='Used for creating and managing Swing components like JFrame, JLabel, JTextField, JButton, and Choice.', description=\"Provides a set of 'lightweight' (all-Java language) components that, to the maximum degree possible, work the same on all platforms.\"), 'java.sql.*': PackageDetail(usage='Used for database connectivity to insert the calculated bill into the database.', description='Provides the API for accessing and processing data stored in a data source (usually a relational database) using the Java programming language.')}, functions={'calculate_bill': FunctionDetail(name='calculate_bill', description='Constructor for the calculate_bill class. It initializes the GUI components and sets up the layout and event listeners.', class_declaration='public class calculate_bill extends JFrame implements ActionListener', additional_details='Sets up a JPanel with a GridLayout, initializes all GUI components (labels, text fields, buttons, choice boxes), and adds action listeners to the buttons.'), 'actionPerformed': FunctionDetail(name='actionPerformed', description='Handles button click events. It calculates the bill based on the units consumed and inserts the bill details into the database.', class_declaration='public void actionPerformed(ActionEvent ae)', additional_details='Retrieves user inputs, calculates the bill, constructs an SQL query, and uses a conn object to execute the update. Displays a message upon successful update.'), 'main': FunctionDetail(name='main', description='The entry point of the program. It creates an instance of calculate_bill and makes the GUI visible.', class_declaration='public static void main(String[] args)', additional_details='Instantiates the calculate_bill class and sets the GUI to be visible.')}),\n",
       " 'src/new.customer.java': FileConfluenceOutput(file_path='src/new.customer.java', overall_summary='The file defines a Java Swing application for adding a new customer into a system. It provides a graphical user interface (GUI) for entering customer details such as name, meter number, address, state, city, email, and phone number. Upon submitting these details, the information is inserted into a database.', packages={'java.awt.*': PackageDetail(usage='Used for creating and managing GUI components like labels, text fields, and buttons.', description='Provides classes for creating user interfaces and for painting graphics and images.'), 'java.awt.event.*': PackageDetail(usage='Used to handle events like button clicks.', description='Provides interfaces and classes for dealing with different types of events fired by AWT components.'), 'javax.swing.*': PackageDetail(usage='Used for creating and managing Swing components for the GUI, such as panels and frames.', description=\"Provides a set of 'lightweight' (all-Java language) components that, to the maximum degree possible, work the same on all platforms.\"), 'java.sql.*': PackageDetail(usage='Used for executing SQL queries to interact with the database.', description='Provides the API for accessing and processing data stored in a data source (usually a relational database) using the Java programming language.')}, functions={'new_customer': FunctionDetail(name='new_customer', description='Constructor for the new_customer class. It initializes the GUI components and sets up the layout and functionality of the application window.', class_declaration='public class new_customer extends JFrame implements ActionListener', additional_details='Sets up labels, text fields, buttons, and adds action listeners to buttons.'), 'actionPerformed': FunctionDetail(name='actionPerformed', description='Handles button click events. It retrieves text from the input fields, constructs an SQL query to insert the new customer data into the database, and executes the query.', class_declaration='public void actionPerformed(ActionEvent ae)', additional_details='Checks which button was clicked and performs actions accordingly. If the submit button is clicked, it inserts the data into the database and shows a confirmation message.'), 'main': FunctionDetail(name='main', description='The main method that makes the application window visible.', class_declaration='public static void main(String[] args)', additional_details='Instantiates a new new_customer object and sets its visibility to true, thereby starting the application.')}),\n",
       " 'src/customer.details.java': FileConfluenceOutput(file_path='src/customer.details.java', overall_summary='This Java file defines a GUI application for displaying customer details in a table format. It fetches data from a database and presents it in a JTable within a JFrame. The application also provides a print functionality for the displayed data.', packages={'java.awt.*': PackageDetail(usage='Used for creating and managing GUI components like buttons and events.', description=\"AWT (Abstract Window Toolkit) is Java's original platform-independent windowing, graphics, and user-interface widget toolkit.\"), 'java.awt.event.*': PackageDetail(usage='Used for handling action events triggered by GUI components.', description='Provides interfaces and classes for dealing with different types of events fired by AWT components.'), 'javax.swing.*': PackageDetail(usage='Used for creating and managing Swing components like JTable and JButton.', description=\"Swing is a GUI widget toolkit for Java that is part of Oracle's Java Foundation Classes (JFC).\"), 'java.sql.*': PackageDetail(usage='Used for executing SQL queries and handling the results.', description='Provides the API for accessing and processing data stored in a data source (usually a relational database) using the Java programming language.')}, functions={'customer_details': FunctionDetail(name='customer_details', description='Constructor for the customer_details class. It initializes the GUI components and fetches customer data from the database to display in a JTable.', class_declaration='public class customer_details extends JFrame implements ActionListener', additional_details='The constructor sets up the JFrame window, initializes a JTable with customer data fetched using a SQL query, and sets up a JButton for printing the table data.'), 'actionPerformed': FunctionDetail(name='actionPerformed', description='Implements the actionPerformed method from the ActionListener interface to handle print button clicks.', class_declaration='public void actionPerformed(ActionEvent ae)', additional_details='This method is triggered when the print button is clicked. It invokes the print method of the JTable to print the displayed customer data.'), 'main': FunctionDetail(name='main', description='The main method that makes the customer_details frame visible, effectively starting the application.', class_declaration='public static void main(String[] args)', additional_details='This static method creates an instance of the customer_details class and sets its visibility to true, displaying the GUI.')}),\n",
       " 'src/generate.bill.java': FileConfluenceOutput(file_path='src/generate.bill.java', overall_summary=\"This Java file is designed to generate electricity bills for customers of Reliance Power Limited. It utilizes a graphical user interface (GUI) to allow users to select a customer and a month, and then generates a detailed bill based on the customer's usage and applicable taxes. The bill includes customer details, meter information, tax details, and the total amount payable.\", packages={'java.awt.*': PackageDetail(usage='Used for creating and managing windows, including various components such as buttons, text areas, and panels.', description='Provides classes for creating user interfaces and for painting graphics and images.'), 'java.awt.event.*': PackageDetail(usage='Provides interfaces and classes for dealing with different types of events fired by AWT components.', description='Used to handle actions performed by the user, such as clicking a button.'), 'javax.swing.*': PackageDetail(usage='Used to create window-based applications. It is built on top of the AWT API and provides more sophisticated components.', description=\"Provides a set of 'lightweight' (all-Java language) components that, to the maximum degree possible, work the same on all platforms.\"), 'java.sql.*': PackageDetail(usage='Used for JDBC database access. It includes classes and interfaces for handling database operations.', description='Provides the API for accessing and processing data stored in a data source (usually a relational database) using the Java programming language.')}, functions={'generate_bill': FunctionDetail(name='generate_bill', description='Constructor for the generate_bill class. It initializes the GUI components and sets up the layout and functionality of the window.', class_declaration='public class generate_bill extends JFrame implements ActionListener', additional_details='Sets up components such as labels, buttons, choice boxes, and text areas. Also, it adds action listeners to buttons.'), 'actionPerformed': FunctionDetail(name='actionPerformed', description='Overrides the actionPerformed method from the ActionListener interface to handle button click events.', class_declaration='public void actionPerformed(ActionEvent ae)', additional_details='Connects to the database to retrieve customer and billing information based on the selected customer and month. It then displays the bill details in a text area.'), 'main': FunctionDetail(name='main', description='The main method that makes the generate_bill window visible, marking the starting point of the application.', class_declaration='public static void main(String[] args)', additional_details='Instantiates the generate_bill class and sets the window to be visible.')}),\n",
       " 'src/pay.bill.java': FileConfluenceOutput(file_path='src/pay.bill.java', overall_summary=\"The file 'pay_bill.java' is designed to create a simple Java Swing application that opens a JFrame window displaying a webpage for electricity bill payment using Paytm. The main functionality is to provide users with a GUI to access and pay their electricity bills online directly through the application.\", packages={'java.awt': PackageDetail(usage='Used for creating and managing GUI components like Dimension.', description='Provides classes for creating user interfaces and for painting graphics and images.'), 'java.awt.event': PackageDetail(usage='Not directly used in the file, but typically included for handling event listeners in AWT components.', description='Provides interfaces and classes for dealing with different types of events fired by AWT components.'), 'javax.swing': PackageDetail(usage='Used for creating the JFrame, JEditorPane, and JScrollPane components.', description=\"Provides a set of 'lightweight' (all-Java language) components that, to the maximum degree possible, work the same on all platforms.\")}, functions={'pay_bill': FunctionDetail(name='pay_bill', description=\"Constructor for the 'pay_bill' class. It initializes the GUI components and sets up the JFrame window to display the Paytm electricity bill payment webpage. If the page cannot be loaded, it displays an error message in HTML format.\", class_declaration='public class pay_bill extends JFrame{\\n    pay_bill(){\\n        ...\\n    }\\n}', additional_details='The constructor uses a JEditorPane to load and display the webpage. It is set to non-editable. A JScrollPane is used to add scroll functionality to the JEditorPane. The JFrame is configured with a default close operation, size, location, and visibility settings.'), 'main': FunctionDetail(name='main', description=\"The main method of the 'pay_bill' class. It creates an instance of the 'pay_bill' class and sets its visibility to true, effectively starting the application.\", class_declaration='public static void main(String[] args){\\n        new pay_bill().setVisible(true);\\n    }', additional_details='This is the entry point of the application. It demonstrates a simple way to create and display a GUI application in Java.')}),\n",
       " 'src/LastBill.java': FileConfluenceOutput(file_path='src/LastBill.java', overall_summary='The file defines a Java Swing application that generates and displays the last bill details for a selected customer from a database. It provides a graphical user interface (GUI) for users to select a customer by meter number and view their billing information, including personal details and past bill amounts.', packages={'java.awt': PackageDetail(usage='Used for creating and managing GUI components like labels, buttons, and choice components.', description='Provides classes for creating user interfaces and for painting graphics and images.'), 'java.awt.event': PackageDetail(usage='Used to handle action events triggered by GUI components.', description='Provides interfaces and classes for dealing with different types of events fired by AWT components.'), 'javax.swing': PackageDetail(usage='Used for creating and managing GUI components like frames, panels, labels, text areas, and buttons.', description=\"Provides a set of 'lightweight' (all-Java language) components that, to the maximum degree possible, work the same on all platforms.\"), 'java.sql': PackageDetail(usage='Used for executing SQL queries to interact with the database.', description='Provides the API for accessing and processing data stored in a data source (usually a relational database) using the Java programming language.')}, functions={'LastBill': FunctionDetail(name='LastBill', description='Constructor for the LastBill class. It initializes the GUI components and sets up the layout and action listeners.', class_declaration='public class LastBill extends JFrame implements ActionListener', additional_details=\"Sets the size, layout, and components of the JFrame. Adds action listener to the 'Generate Bill' button.\"), 'actionPerformed': FunctionDetail(name='actionPerformed', description=\"Handles the action event triggered by the 'Generate Bill' button. It fetches and displays the customer and billing details from the database based on the selected meter number.\", class_declaration='public void actionPerformed(ActionEvent ae)', additional_details=\"Connects to the database using a 'conn' object. Executes SQL queries to fetch customer details and billing history. Appends the fetched data to the JTextArea.\"), 'main': FunctionDetail(name='main', description='The main method that makes the LastBill frame visible, marking the starting point of the application.', class_declaration='public static void main(String[] args)', additional_details='Instantiates the LastBill class and sets the frame visibility to true.')})}"
      ]
     },
     "execution_count": 9,
     "metadata": {},
     "output_type": "execute_result"
    }
   ],
   "source": [
    "docs = get_documentation_by_url(repo_url)\n",
    "docs.files"
   ]
  },
  {
   "cell_type": "code",
   "execution_count": 6,
   "metadata": {},
   "outputs": [],
   "source": [
    "# delete_documentation_by_url(repo_url)"
   ]
  },
  {
   "cell_type": "code",
   "execution_count": 7,
   "metadata": {},
   "outputs": [],
   "source": [
    "# name_of_repo = repo_url.split(\"/\")[-2]\n",
    "# res          = get_repo_overview(name_of_repo, str(docs.files))"
   ]
  },
  {
   "cell_type": "code",
   "execution_count": 4,
   "metadata": {},
   "outputs": [],
   "source": [
    "repo_url            = \"https://github.com/Adarsh9616/Electricity_Billing_System/\"\n",
    "repo_url            = \"https://github.com/dbhatia00/documentation-generation/\"\n",
    "url_to_process_repo = f\"https://bjxdbdicckttmzhrhnpl342k2q0pcthx.lambda-url.us-east-1.on.aws/?repo_url={repo_url}\"\n",
    "\n",
    "import requests\n",
    "response            = requests.get(url_to_process_repo)\n"
   ]
  },
  {
   "cell_type": "code",
   "execution_count": 5,
   "metadata": {},
   "outputs": [
    {
     "data": {
      "text/plain": [
       "'Repository URL successfully enqueued: https://github.com/Adarsh9616/Electricity_Billing_System/'"
      ]
     },
     "execution_count": 5,
     "metadata": {},
     "output_type": "execute_result"
    }
   ],
   "source": [
    "response.json()"
   ]
  },
  {
   "cell_type": "code",
   "execution_count": null,
   "metadata": {},
   "outputs": [],
   "source": []
  }
 ],
 "metadata": {
  "kernelspec": {
   "display_name": "open-interpreter-env",
   "language": "python",
   "name": "python3"
  },
  "language_info": {
   "codemirror_mode": {
    "name": "ipython",
    "version": 3
   },
   "file_extension": ".py",
   "mimetype": "text/x-python",
   "name": "python",
   "nbconvert_exporter": "python",
   "pygments_lexer": "ipython3",
   "version": "3.9.16"
  }
 },
 "nbformat": 4,
 "nbformat_minor": 2
}
